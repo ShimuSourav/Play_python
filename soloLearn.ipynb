{
 "cells": [
  {
   "cell_type": "code",
   "execution_count": 1,
   "metadata": {},
   "outputs": [
    {
     "name": "stdout",
     "output_type": "stream",
     "text": [
      "Please enter your name: Gitz\n"
     ]
    },
    {
     "data": {
      "text/plain": [
       "'Gitz'"
      ]
     },
     "execution_count": 1,
     "metadata": {},
     "output_type": "execute_result"
    }
   ],
   "source": [
    "input(\"Please enter your name: \")"
   ]
  },
  {
   "cell_type": "code",
   "execution_count": 2,
   "metadata": {},
   "outputs": [
    {
     "name": "stdout",
     "output_type": "stream",
     "text": [
      "spam spam spam \n"
     ]
    }
   ],
   "source": [
    "print(\"spam \" * 3)"
   ]
  },
  {
   "cell_type": "code",
   "execution_count": 3,
   "metadata": {},
   "outputs": [
    {
     "data": {
      "text/plain": [
       "6"
      ]
     },
     "execution_count": 3,
     "metadata": {},
     "output_type": "execute_result"
    }
   ],
   "source": [
    "int(\"2\") + int(\"4\")"
   ]
  },
  {
   "cell_type": "code",
   "execution_count": 4,
   "metadata": {},
   "outputs": [
    {
     "data": {
      "text/plain": [
       "3.0"
      ]
     },
     "execution_count": 4,
     "metadata": {},
     "output_type": "execute_result"
    }
   ],
   "source": [
    "int(\"8\") - float(\"5\")"
   ]
  },
  {
   "cell_type": "code",
   "execution_count": 5,
   "metadata": {},
   "outputs": [
    {
     "data": {
      "text/plain": [
       "6.0"
      ]
     },
     "execution_count": 5,
     "metadata": {},
     "output_type": "execute_result"
    }
   ],
   "source": [
    "float(\"8\") - int(\"2\")"
   ]
  },
  {
   "cell_type": "code",
   "execution_count": 6,
   "metadata": {},
   "outputs": [
    {
     "name": "stdout",
     "output_type": "stream",
     "text": [
      "Enter a number: 3.0\n",
      "Enter another number: 3.3\n"
     ]
    },
    {
     "data": {
      "text/plain": [
       "6.3"
      ]
     },
     "execution_count": 6,
     "metadata": {},
     "output_type": "execute_result"
    }
   ],
   "source": [
    "float(input(\"Enter a number: \")) + float(input(\"Enter another number: \"))\n"
   ]
  },
  {
   "cell_type": "code",
   "execution_count": 7,
   "metadata": {},
   "outputs": [
    {
     "name": "stdout",
     "output_type": "stream",
     "text": [
      "Gitz\n"
     ]
    }
   ],
   "source": [
    "name = \"Gitz\"\n",
    "print(name)"
   ]
  },
  {
   "cell_type": "code",
   "execution_count": 8,
   "metadata": {},
   "outputs": [
    {
     "name": "stdout",
     "output_type": "stream",
     "text": [
      "35\n"
     ]
    }
   ],
   "source": [
    "val_a = 23\n",
    "val_b = 12\n",
    "print(val_a + val_b)"
   ]
  },
  {
   "cell_type": "code",
   "execution_count": 9,
   "metadata": {},
   "outputs": [
    {
     "name": "stdout",
     "output_type": "stream",
     "text": [
      "better\n"
     ]
    }
   ],
   "source": [
    "gitz = \"better\"\n",
    "print(gitz)"
   ]
  },
  {
   "cell_type": "code",
   "execution_count": 10,
   "metadata": {},
   "outputs": [
    {
     "name": "stdout",
     "output_type": "stream",
     "text": [
      "best\n"
     ]
    }
   ],
   "source": [
    "gitz = \"best\"\n",
    "print(gitz)"
   ]
  },
  {
   "cell_type": "code",
   "execution_count": null,
   "metadata": {
    "collapsed": true
   },
   "outputs": [],
   "source": [
    "print(gitz + \" !\")\n"
   ]
  },
  {
   "cell_type": "code",
   "execution_count": null,
   "metadata": {
    "collapsed": true
   },
   "outputs": [],
   "source": [
    "gitz = input(\"Enter your age: \")\n",
    "print(\"Your age is: \"+ gitz)\n"
   ]
  },
  {
   "cell_type": "code",
   "execution_count": 11,
   "metadata": {
    "collapsed": true
   },
   "outputs": [],
   "source": [
    "x = \"spam\""
   ]
  },
  {
   "cell_type": "code",
   "execution_count": 12,
   "metadata": {
    "collapsed": true
   },
   "outputs": [],
   "source": [
    "x = \"spam\"\n",
    "x += \" and egg\""
   ]
  },
  {
   "cell_type": "code",
   "execution_count": null,
   "metadata": {
    "collapsed": true
   },
   "outputs": [],
   "source": [
    "print(x)\n"
   ]
  },
  {
   "cell_type": "code",
   "execution_count": 13,
   "metadata": {},
   "outputs": [
    {
     "data": {
      "text/plain": [
       "False"
      ]
     },
     "execution_count": 13,
     "metadata": {},
     "output_type": "execute_result"
    }
   ],
   "source": [
    "2 == 3"
   ]
  },
  {
   "cell_type": "code",
   "execution_count": 14,
   "metadata": {},
   "outputs": [
    {
     "data": {
      "text/plain": [
       "True"
      ]
     },
     "execution_count": 14,
     "metadata": {},
     "output_type": "execute_result"
    }
   ],
   "source": [
    "my_bool = True\n",
    "my_bool"
   ]
  },
  {
   "cell_type": "code",
   "execution_count": 15,
   "metadata": {},
   "outputs": [
    {
     "data": {
      "text/plain": [
       "True"
      ]
     },
     "execution_count": 15,
     "metadata": {},
     "output_type": "execute_result"
    }
   ],
   "source": [
    "\"tr\" == \"tr\""
   ]
  },
  {
   "cell_type": "code",
   "execution_count": 16,
   "metadata": {},
   "outputs": [
    {
     "data": {
      "text/plain": [
       "True"
      ]
     },
     "execution_count": 16,
     "metadata": {},
     "output_type": "execute_result"
    }
   ],
   "source": [
    "2 != 3"
   ]
  },
  {
   "cell_type": "markdown",
   "metadata": {},
   "source": [
    "2 != 2"
   ]
  },
  {
   "cell_type": "code",
   "execution_count": 17,
   "metadata": {},
   "outputs": [
    {
     "data": {
      "text/plain": [
       "False"
      ]
     },
     "execution_count": 17,
     "metadata": {},
     "output_type": "execute_result"
    }
   ],
   "source": [
    "2 != 2"
   ]
  },
  {
   "cell_type": "code",
   "execution_count": 18,
   "metadata": {},
   "outputs": [
    {
     "data": {
      "text/plain": [
       "True"
      ]
     },
     "execution_count": 18,
     "metadata": {},
     "output_type": "execute_result"
    }
   ],
   "source": [
    "7 >3 "
   ]
  },
  {
   "cell_type": "code",
   "execution_count": 19,
   "metadata": {},
   "outputs": [
    {
     "data": {
      "text/plain": [
       "False"
      ]
     },
     "execution_count": 19,
     "metadata": {},
     "output_type": "execute_result"
    }
   ],
   "source": [
    "2 < 1"
   ]
  },
  {
   "cell_type": "code",
   "execution_count": 20,
   "metadata": {},
   "outputs": [
    {
     "data": {
      "text/plain": [
       "False"
      ]
     },
     "execution_count": 20,
     "metadata": {},
     "output_type": "execute_result"
    }
   ],
   "source": [
    "7 >= 8"
   ]
  },
  {
   "cell_type": "code",
   "execution_count": 21,
   "metadata": {},
   "outputs": [
    {
     "data": {
      "text/plain": [
       "True"
      ]
     },
     "execution_count": 21,
     "metadata": {},
     "output_type": "execute_result"
    }
   ],
   "source": [
    "7 >= 1"
   ]
  },
  {
   "cell_type": "code",
   "execution_count": 22,
   "metadata": {},
   "outputs": [
    {
     "data": {
      "text/plain": [
       "False"
      ]
     },
     "execution_count": 22,
     "metadata": {},
     "output_type": "execute_result"
    }
   ],
   "source": [
    "9 <= 1"
   ]
  },
  {
   "cell_type": "code",
   "execution_count": 23,
   "metadata": {},
   "outputs": [
    {
     "data": {
      "text/plain": [
       "True"
      ]
     },
     "execution_count": 23,
     "metadata": {},
     "output_type": "execute_result"
    }
   ],
   "source": [
    "9<= 10"
   ]
  },
  {
   "cell_type": "code",
   "execution_count": 24,
   "metadata": {},
   "outputs": [
    {
     "name": "stdout",
     "output_type": "stream",
     "text": [
      "Close\n"
     ]
    }
   ],
   "source": [
    "if 10 > 19:\n",
    "    print(\"Ten is not greater than 19, so enter the appropriate value. \\nTill continue the program.\")\n",
    "else:\n",
    "    print(\"Close\")"
   ]
  },
  {
   "cell_type": "code",
   "execution_count": 25,
   "metadata": {},
   "outputs": [
    {
     "name": "stdout",
     "output_type": "stream",
     "text": [
      "3\n"
     ]
    }
   ],
   "source": [
    "num = 7 \n",
    "if num > 3:\n",
    "    print(\"3\")\n",
    "    if num < 5:\n",
    "        print(\"5\")\n",
    "        if num == 7:\n",
    "            print(\"7\")"
   ]
  },
  {
   "cell_type": "code",
   "execution_count": 26,
   "metadata": {},
   "outputs": [
    {
     "ename": "SyntaxError",
     "evalue": "invalid syntax (<ipython-input-26-b6b293d52233>, line 4)",
     "output_type": "error",
     "traceback": [
      "\u001b[1;36m  File \u001b[1;32m\"<ipython-input-26-b6b293d52233>\"\u001b[1;36m, line \u001b[1;32m4\u001b[0m\n\u001b[1;33m    else:\u001b[0m\n\u001b[1;37m       ^\u001b[0m\n\u001b[1;31mSyntaxError\u001b[0m\u001b[1;31m:\u001b[0m invalid syntax\n"
     ]
    }
   ],
   "source": [
    "if 1 + 1 == 2:\n",
    "    if 2 * 2 == 8:\n",
    "        print(\"if\")\n",
    "        else:\n",
    "            print(\"else\")"
   ]
  },
  {
   "cell_type": "code",
   "execution_count": 27,
   "metadata": {},
   "outputs": [
    {
     "name": "stdout",
     "output_type": "stream",
     "text": [
      "Number isn't 5, 11 or 7\n"
     ]
    }
   ],
   "source": [
    "num = 2\n",
    "if num == 5:\n",
    "  print(\"Number is 5\")\n",
    "else: \n",
    "  if num == 11:\n",
    "    print(\"Number is 11\")\n",
    "  else:\n",
    "    if num == 7:\n",
    "      print(\"Number is 7\")\n",
    "    else: \n",
    "      print(\"Number isn't 5, 11 or 7\")"
   ]
  },
  {
   "cell_type": "code",
   "execution_count": 1,
   "metadata": {},
   "outputs": [
    {
     "name": "stdout",
     "output_type": "stream",
     "text": [
      "1\n",
      "2\n",
      "3\n",
      "4\n",
      "5\n",
      "Finished\n"
     ]
    }
   ],
   "source": [
    "i = 1\n",
    "while i <= 5:\n",
    "    print(i)\n",
    "    i = i + 1\n",
    "    \n",
    "print(\"Finished\")"
   ]
  },
  {
   "cell_type": "code",
   "execution_count": 2,
   "metadata": {},
   "outputs": [
    {
     "name": "stdout",
     "output_type": "stream",
     "text": [
      "3\n",
      "2\n",
      "1\n",
      "0\n"
     ]
    }
   ],
   "source": [
    "i = 3\n",
    "while i >= 0:\n",
    "    print(i)\n",
    "    i = i -1"
   ]
  },
  {
   "cell_type": "code",
   "execution_count": 3,
   "metadata": {},
   "outputs": [
    {
     "ename": "NameError",
     "evalue": "name 'infinte' is not defined",
     "output_type": "error",
     "traceback": [
      "\u001b[1;31m---------------------------------------------------------------------------\u001b[0m",
      "\u001b[1;31mNameError\u001b[0m                                 Traceback (most recent call last)",
      "\u001b[1;32m<ipython-input-3-e423809ae59f>\u001b[0m in \u001b[0;36m<module>\u001b[1;34m()\u001b[0m\n\u001b[0;32m      1\u001b[0m \u001b[1;32mwhile\u001b[0m \u001b[1;36m1\u001b[0m \u001b[1;33m==\u001b[0m \u001b[1;36m1\u001b[0m\u001b[1;33m:\u001b[0m\u001b[1;33m\u001b[0m\u001b[0m\n\u001b[1;32m----> 2\u001b[1;33m     \u001b[0mprint\u001b[0m\u001b[1;33m(\u001b[0m\u001b[0minfinte\u001b[0m\u001b[1;33m)\u001b[0m\u001b[1;33m\u001b[0m\u001b[0m\n\u001b[0m",
      "\u001b[1;31mNameError\u001b[0m: name 'infinte' is not defined"
     ]
    }
   ],
   "source": [
    "while 1 == 1:\n",
    "    print(infinte)"
   ]
  },
  {
   "cell_type": "code",
   "execution_count": 7,
   "metadata": {},
   "outputs": [
    {
     "name": "stdout",
     "output_type": "stream",
     "text": [
      "0\n",
      "broken\n",
      "1\n",
      "broken\n",
      "2\n",
      "broken\n",
      "3\n",
      "broken\n",
      "4\n",
      "break\n"
     ]
    }
   ],
   "source": [
    "i = 0\n",
    "while 1 == 1:\n",
    "    print(i)\n",
    "    i = i + 1\n",
    "    if i >= 5:\n",
    "        print(\"break\")\n",
    "        break\n",
    "    print(\"broken\")\n",
    "        "
   ]
  },
  {
   "cell_type": "code",
   "execution_count": 8,
   "metadata": {},
   "outputs": [
    {
     "name": "stdout",
     "output_type": "stream",
     "text": [
      "5\n",
      "4\n",
      "3\n"
     ]
    }
   ],
   "source": [
    "i = 5\n",
    "while True:\n",
    "    print(i)\n",
    "    i = i - 1\n",
    "    if i <= 2:\n",
    "        break\n"
   ]
  },
  {
   "cell_type": "code",
   "execution_count": 9,
   "metadata": {},
   "outputs": [
    {
     "name": "stdout",
     "output_type": "stream",
     "text": [
      "1\n",
      "Skipping 2\n",
      "3\n",
      "4\n",
      "Breaking\n",
      "Finished\n"
     ]
    }
   ],
   "source": [
    "i = 0\n",
    "while True:\n",
    "   i = i +1\n",
    "   if i == 2:\n",
    "      print(\"Skipping 2\")\n",
    "      continue\n",
    "   if i == 5:\n",
    "      print(\"Breaking\")\n",
    "      break\n",
    "   print(i)\n",
    "\n",
    "print(\"Finished\")"
   ]
  },
  {
   "cell_type": "code",
   "execution_count": 112,
   "metadata": {},
   "outputs": [
    {
     "name": "stdout",
     "output_type": "stream",
     "text": [
      "Make an account in github\n"
     ]
    }
   ],
   "source": [
    "def gitz():\n",
    "    print(\"Make an account in github\")\n",
    "    \n",
    "gitz()"
   ]
  },
  {
   "cell_type": "code",
   "execution_count": 116,
   "metadata": {},
   "outputs": [
    {
     "name": "stdout",
     "output_type": "stream",
     "text": [
      "x is greater than y\n"
     ]
    }
   ],
   "source": [
    "def git(x, y):    \n",
    "    if x > y:\n",
    "        print(\"x is greater than y\")\n",
    "\n",
    "git(4, 3)"
   ]
  },
  {
   "cell_type": "code",
   "execution_count": 115,
   "metadata": {},
   "outputs": [
    {
     "name": "stdout",
     "output_type": "stream",
     "text": [
      "hi\n"
     ]
    }
   ],
   "source": [
    "def hi():\n",
    "    print(\"hi\")\n",
    "hi()"
   ]
  },
  {
   "cell_type": "code",
   "execution_count": 117,
   "metadata": {},
   "outputs": [
    {
     "name": "stdout",
     "output_type": "stream",
     "text": [
      "Python!\n"
     ]
    }
   ],
   "source": [
    "def exclamation(word):\n",
    "    print(word + \"!\")\n",
    "    \n",
    "exclamation(\"Python\")"
   ]
  },
  {
   "cell_type": "code",
   "execution_count": 118,
   "metadata": {},
   "outputs": [
    {
     "name": "stdout",
     "output_type": "stream",
     "text": [
      "Lets rock!\n"
     ]
    }
   ],
   "source": [
    "exclamation(\"Lets rock\")"
   ]
  },
  {
   "cell_type": "code",
   "execution_count": 119,
   "metadata": {},
   "outputs": [
    {
     "name": "stdout",
     "output_type": "stream",
     "text": [
      "5\n"
     ]
    }
   ],
   "source": [
    "def sum(a, b):\n",
    "    print(a + b)\n",
    "    \n",
    "sum(2, 3)"
   ]
  },
  {
   "cell_type": "code",
   "execution_count": 120,
   "metadata": {},
   "outputs": [
    {
     "name": "stdout",
     "output_type": "stream",
     "text": [
      "8\n"
     ]
    }
   ],
   "source": [
    "def reuse(a):\n",
    "    a = a + 3\n",
    "    print(a)\n",
    "    \n",
    "reuse(5)"
   ]
  },
  {
   "cell_type": "code",
   "execution_count": 121,
   "metadata": {},
   "outputs": [
    {
     "data": {
      "text/plain": [
       "4"
      ]
     },
     "execution_count": 121,
     "metadata": {},
     "output_type": "execute_result"
    }
   ],
   "source": [
    "def max(x, y):\n",
    "    if x >= y:\n",
    "        return x\n",
    "    else:\n",
    "        return y\n",
    "    \n",
    "    reass = x + 3\n",
    "    print(reass)\n",
    "    \n",
    "    \n",
    "max(4, 1)\n",
    "    "
   ]
  },
  {
   "cell_type": "code",
   "execution_count": 122,
   "metadata": {},
   "outputs": [
    {
     "name": "stdout",
     "output_type": "stream",
     "text": [
      "Python\n",
      "Doc\n"
     ]
    }
   ],
   "source": [
    "print(\"Python\")\n",
    "\"\"\"\n",
    "doc py\n",
    "doc string\n",
    "\"\"\"\n",
    "print(\"Doc\")"
   ]
  },
  {
   "cell_type": "code",
   "execution_count": 123,
   "metadata": {},
   "outputs": [
    {
     "name": "stdout",
     "output_type": "stream",
     "text": [
      "10\n"
     ]
    }
   ],
   "source": [
    "def sum(a, b):\n",
    "    return a + b\n",
    "\n",
    "op = sum(3, 4)\n",
    "\n",
    "opwo = op + 3\n",
    "print(opwo)\n"
   ]
  },
  {
   "cell_type": "code",
   "execution_count": 127,
   "metadata": {},
   "outputs": [
    {
     "name": "stdout",
     "output_type": "stream",
     "text": [
      "22\n"
     ]
    }
   ],
   "source": [
    "def do_twice(func, x, y):\n",
    "  return func(func(x, y), func(x, y))\n",
    "\n",
    "def add(x, y):\n",
    "  return x + y\n",
    "\n",
    "print(do_twice(add, 5, 6))"
   ]
  },
  {
   "cell_type": "code",
   "execution_count": 132,
   "metadata": {},
   "outputs": [
    {
     "name": "stdout",
     "output_type": "stream",
     "text": [
      "Error occured\n",
      "\n",
      "This line will be printed no matter what\n"
     ]
    },
    {
     "ename": "ZeroDivisionError",
     "evalue": "division by zero",
     "output_type": "error",
     "traceback": [
      "\u001b[1;31m---------------------------------------------------------------------------\u001b[0m",
      "\u001b[1;31mZeroDivisionError\u001b[0m                         Traceback (most recent call last)",
      "\u001b[1;32m<ipython-input-132-7577880904ec>\u001b[0m in \u001b[0;36m<module>\u001b[1;34m()\u001b[0m\n\u001b[0;32m      1\u001b[0m \u001b[1;32mtry\u001b[0m\u001b[1;33m:\u001b[0m\u001b[1;33m\u001b[0m\u001b[0m\n\u001b[1;32m----> 2\u001b[1;33m     \u001b[1;36m1\u001b[0m\u001b[1;33m/\u001b[0m\u001b[1;36m0\u001b[0m\u001b[1;33m\u001b[0m\u001b[0m\n\u001b[0m\u001b[0;32m      3\u001b[0m \u001b[1;32mexcept\u001b[0m\u001b[1;33m:\u001b[0m\u001b[1;33m\u001b[0m\u001b[0m\n\u001b[0;32m      4\u001b[0m     \u001b[0mprint\u001b[0m\u001b[1;33m(\u001b[0m\u001b[1;34m\"Error occured\\n\"\u001b[0m\u001b[1;33m)\u001b[0m\u001b[1;33m\u001b[0m\u001b[0m\n\u001b[0;32m      5\u001b[0m     \u001b[1;32mraise\u001b[0m\u001b[1;33m\u001b[0m\u001b[0m\n",
      "\u001b[1;31mZeroDivisionError\u001b[0m: division by zero"
     ]
    }
   ],
   "source": [
    "try:\n",
    "    1/0\n",
    "except:\n",
    "    print(\"Error occured\\n\")\n",
    "    raise\n",
    "    \n",
    "finally:\n",
    "    print(\"This line will be printed no matter what\")"
   ]
  },
  {
   "cell_type": "code",
   "execution_count": null,
   "metadata": {
    "collapsed": true
   },
   "outputs": [],
   "source": []
  },
  {
   "cell_type": "code",
   "execution_count": null,
   "metadata": {
    "collapsed": true
   },
   "outputs": [],
   "source": []
  },
  {
   "cell_type": "code",
   "execution_count": 32,
   "metadata": {},
   "outputs": [
    {
     "ename": "ValueError",
     "evalue": "must have exactly one of create/read/write/append mode",
     "output_type": "error",
     "traceback": [
      "\u001b[1;31m---------------------------------------------------------------------------\u001b[0m",
      "\u001b[1;31mValueError\u001b[0m                                Traceback (most recent call last)",
      "\u001b[1;32m<ipython-input-32-e585a13c7680>\u001b[0m in \u001b[0;36m<module>\u001b[1;34m()\u001b[0m\n\u001b[1;32m----> 1\u001b[1;33m \u001b[0mmy_file\u001b[0m \u001b[1;33m=\u001b[0m \u001b[0mopen\u001b[0m\u001b[1;33m(\u001b[0m\u001b[1;34m\"D:\\\\sololearn.txt\"\u001b[0m\u001b[1;33m,\u001b[0m \u001b[1;34m\"rw\"\u001b[0m\u001b[1;33m)\u001b[0m\u001b[1;33m\u001b[0m\u001b[0m\n\u001b[0m",
      "\u001b[1;31mValueError\u001b[0m: must have exactly one of create/read/write/append mode"
     ]
    }
   ],
   "source": [
    "my_file = open(\"D:\\\\sololearn.txt\", \"rw\")"
   ]
  },
  {
   "cell_type": "code",
   "execution_count": 34,
   "metadata": {},
   "outputs": [
    {
     "ename": "FileNotFoundError",
     "evalue": "[Errno 2] No such file or directory: 'sololearn.txt'",
     "output_type": "error",
     "traceback": [
      "\u001b[1;31m---------------------------------------------------------------------------\u001b[0m",
      "\u001b[1;31mFileNotFoundError\u001b[0m                         Traceback (most recent call last)",
      "\u001b[1;32m<ipython-input-34-053124b7e58c>\u001b[0m in \u001b[0;36m<module>\u001b[1;34m()\u001b[0m\n\u001b[1;32m----> 1\u001b[1;33m \u001b[0mfile\u001b[0m \u001b[1;33m=\u001b[0m \u001b[0mopen\u001b[0m\u001b[1;33m(\u001b[0m\u001b[1;34m\"sololearn.txt\"\u001b[0m\u001b[1;33m)\u001b[0m\u001b[1;33m\u001b[0m\u001b[0m\n\u001b[0m\u001b[0;32m      2\u001b[0m \u001b[0mcont\u001b[0m \u001b[1;33m=\u001b[0m \u001b[0msololearn\u001b[0m\u001b[1;33m.\u001b[0m\u001b[0mread\u001b[0m\u001b[1;33m(\u001b[0m\u001b[1;33m)\u001b[0m\u001b[1;33m\u001b[0m\u001b[0m\n\u001b[0;32m      3\u001b[0m \u001b[0mprint\u001b[0m\u001b[1;33m(\u001b[0m\u001b[0mcont\u001b[0m\u001b[1;33m)\u001b[0m\u001b[1;33m\u001b[0m\u001b[0m\n\u001b[0;32m      4\u001b[0m \u001b[0msololearn\u001b[0m\u001b[1;33m.\u001b[0m\u001b[0mclose\u001b[0m\u001b[1;33m(\u001b[0m\u001b[1;33m)\u001b[0m\u001b[1;33m\u001b[0m\u001b[0m\n",
      "\u001b[1;31mFileNotFoundError\u001b[0m: [Errno 2] No such file or directory: 'sololearn.txt'"
     ]
    }
   ],
   "source": [
    "file = open(\"sololearn.txt\")\n",
    "cont = sololearn.read()\n",
    "print(cont)\n",
    "sololearn.close()"
   ]
  },
  {
   "cell_type": "code",
   "execution_count": 40,
   "metadata": {},
   "outputs": [
    {
     "name": "stdout",
     "output_type": "stream",
     "text": [
      "This has been written\n",
      "21\n"
     ]
    }
   ],
   "source": [
    "file = open(\"new.txt\", \"w\")\n",
    "amount_of_bytes = file.write(\"This has been written\")\n",
    "file.close()\n",
    "\n",
    "file = open(\"new.txt\", \"r\")\n",
    "print(file.read())\n",
    "file.close()\n",
    "\n",
    "print(amount_of_bytes) # amount of bytes have been written "
   ]
  },
  {
   "cell_type": "code",
   "execution_count": 39,
   "metadata": {},
   "outputs": [
    {
     "name": "stdout",
     "output_type": "stream",
     "text": [
      "This has been written\n"
     ]
    }
   ],
   "source": [
    "try:\n",
    "    file = open(\"new.txt\")\n",
    "    print(file.read())\n",
    "    \n",
    "finally:\n",
    "    file.close()"
   ]
  },
  {
   "cell_type": "code",
   "execution_count": 43,
   "metadata": {},
   "outputs": [
    {
     "ename": "NameError",
     "evalue": "name 'none' is not defined",
     "output_type": "error",
     "traceback": [
      "\u001b[1;31m---------------------------------------------------------------------------\u001b[0m",
      "\u001b[1;31mNameError\u001b[0m                                 Traceback (most recent call last)",
      "\u001b[1;32m<ipython-input-43-93e71af83766>\u001b[0m in \u001b[0;36m<module>\u001b[1;34m()\u001b[0m\n\u001b[0;32m      1\u001b[0m \u001b[1;34m\"none\"\u001b[0m \u001b[1;33m==\u001b[0m \u001b[1;34m\"none\"\u001b[0m\u001b[1;33m\u001b[0m\u001b[0m\n\u001b[1;32m----> 2\u001b[1;33m \u001b[0mnone\u001b[0m\u001b[1;33m\u001b[0m\u001b[0m\n\u001b[0m\u001b[0;32m      3\u001b[0m \u001b[0mprint\u001b[0m\u001b[1;33m(\u001b[0m\u001b[0mnone\u001b[0m\u001b[1;33m)\u001b[0m\u001b[1;33m\u001b[0m\u001b[0m\n",
      "\u001b[1;31mNameError\u001b[0m: name 'none' is not defined"
     ]
    }
   ],
   "source": [
    "\"none\" == \"none\"\n",
    "none\n",
    "print(none)"
   ]
  },
  {
   "cell_type": "code",
   "execution_count": 11,
   "metadata": {},
   "outputs": [
    {
     "name": "stdout",
     "output_type": "stream",
     "text": [
      "Hi!\n",
      "None\n"
     ]
    }
   ],
   "source": [
    "def some_func():\n",
    "   print(\"Hi!\")\n",
    "\n",
    "#some_func()\n",
    "var = some_func()\n",
    "print(var)"
   ]
  },
  {
   "cell_type": "code",
   "execution_count": 47,
   "metadata": {},
   "outputs": [
    {
     "name": "stdout",
     "output_type": "stream",
     "text": [
      "Hi\n"
     ]
    }
   ],
   "source": [
    "def s_fun():\n",
    "    print(\"Hi\")\n",
    "    \n",
    "s_fun()"
   ]
  },
  {
   "cell_type": "code",
   "execution_count": 51,
   "metadata": {},
   "outputs": [
    {
     "name": "stdout",
     "output_type": "stream",
     "text": [
      "5\n",
      "2\n"
     ]
    }
   ],
   "source": [
    "lang = {\"R\" : 5, \"Python\" : 4, \"C\" : 3, \"Ruby\" : 2}\n",
    "print(lang[\"R\"])\n",
    "print(lang[\"Ruby\"])"
   ]
  },
  {
   "cell_type": "code",
   "execution_count": 52,
   "metadata": {},
   "outputs": [
    {
     "name": "stdout",
     "output_type": "stream",
     "text": [
      "255\n"
     ]
    }
   ],
   "source": [
    "li = {\"one two three\" : 255}\n",
    "print(li[\"one two three\"])"
   ]
  },
  {
   "cell_type": "code",
   "execution_count": 53,
   "metadata": {},
   "outputs": [
    {
     "name": "stdout",
     "output_type": "stream",
     "text": [
      "[255, 244, 233]\n"
     ]
    }
   ],
   "source": [
    "li = {\"one two three\" : [255, 244, 233]}\n",
    "print(li[\"one two three\"])"
   ]
  },
  {
   "cell_type": "code",
   "execution_count": 57,
   "metadata": {},
   "outputs": [
    {
     "name": "stdout",
     "output_type": "stream",
     "text": [
      "{1: 1, 2: 4, 3: 9, 5: 25}\n"
     ]
    }
   ],
   "source": [
    "li = {1 : 1, 2 : 4, 3 : 10}\n",
    "li[3] = 9\n",
    "li[5] = 25\n",
    "print(li)\n",
    "\n",
    "# li = should be di (dictionary)"
   ]
  },
  {
   "cell_type": "code",
   "execution_count": 65,
   "metadata": {},
   "outputs": [
    {
     "name": "stdout",
     "output_type": "stream",
     "text": [
      "1\n",
      "25\n",
      "Value is not in the dictionary\n"
     ]
    }
   ],
   "source": [
    "print(li.get(1))\n",
    "print(li.get(5, \"Value is not in the dictionary\"))\n",
    "print(li.get(7, \"Value is not in the dictionary\"))\n",
    "\n",
    "# if key is absent, then above line will be printed otherwise not"
   ]
  },
  {
   "cell_type": "code",
   "execution_count": 72,
   "metadata": {},
   "outputs": [
    {
     "name": "stdout",
     "output_type": "stream",
     "text": [
      "('R', 'python', 'C', 5, 6)\n",
      "5\n",
      "()\n"
     ]
    }
   ],
   "source": [
    "my_tuple = (\"R\", \"python\", \"C\", 5, 6)\n",
    "print(my_tuple)\n",
    "\n",
    "# my_tuple[2] = \"Ruby\" # 'tuple' object does not support item assignment\n",
    "\n",
    "print(my_tuple[3])\n",
    "\n",
    "empty_tuple = ()\n",
    "print(empty_tuple)"
   ]
  },
  {
   "cell_type": "code",
   "execution_count": 73,
   "metadata": {},
   "outputs": [
    {
     "name": "stdout",
     "output_type": "stream",
     "text": [
      "[0, 1, 2, 3, 4]\n",
      "[5, 6, 7]\n",
      "[7, 8, 9, 10]\n",
      "[0, 1, 2, 3, 4]\n"
     ]
    }
   ],
   "source": [
    "li = [0, 1, 2, 3, 4, 5, 6, 7, 8, 9, 10]\n",
    "\n",
    "print(li[0:5])\n",
    "print(li[5:8])\n",
    "print(li[7: ])\n",
    "print(li[ :5])"
   ]
  },
  {
   "cell_type": "code",
   "execution_count": 81,
   "metadata": {},
   "outputs": [
    {
     "name": "stdout",
     "output_type": "stream",
     "text": [
      "[0, 1, 8, 27, 64, 125]\n",
      "[0, 4, 16, 36, 64]\n"
     ]
    }
   ],
   "source": [
    "# list comprehension\n",
    "cubes = [i ** 3 for i in range(6)]\n",
    "\n",
    "print(cubes)\n",
    "\n",
    "# even numbers\n",
    "even = [i**2 for i in range(10) if i**2 % 2 == 0]\n",
    "\n",
    "print(even)"
   ]
  },
  {
   "cell_type": "code",
   "execution_count": 16,
   "metadata": {},
   "outputs": [
    {
     "name": "stdout",
     "output_type": "stream",
     "text": [
      "True\n",
      "False\n",
      "SOME USEFUL FUNCTION\n",
      "some useful function\n",
      "['some', ' useful', ' function']\n",
      "['som', ', us', 'ful, function']\n"
     ]
    }
   ],
   "source": [
    "my_str = \"some useful function\"\n",
    "my_split = \"some, useful, function\"\n",
    "\n",
    "print(my_str.startswith(\"some\"))\n",
    "print(my_str.endswith(\"function.\"))\n",
    "print(my_str.upper())\n",
    "print(my_str.lower())\n",
    "print(my_split.split(\",\"))\n",
    "print(my_split.split(\"e\"))"
   ]
  },
  {
   "cell_type": "code",
   "execution_count": 18,
   "metadata": {},
   "outputs": [
    {
     "name": "stdout",
     "output_type": "stream",
     "text": [
      "Bangladesh\n",
      "a\n",
      "2\n"
     ]
    }
   ],
   "source": [
    "text = input()\n",
    "char = input()\n",
    "\n",
    "def char_counter(text, char):\n",
    "    count = 0\n",
    "    for c in text:\n",
    "        if c == char:\n",
    "            count += 1\n",
    "    return count\n",
    "\n",
    "print(char_counter(text, char))"
   ]
  },
  {
   "cell_type": "code",
   "execution_count": 20,
   "metadata": {},
   "outputs": [
    {
     "name": "stdout",
     "output_type": "stream",
     "text": [
      "Enter a file: sololearn.txt\n"
     ]
    },
    {
     "ename": "AttributeError",
     "evalue": "'str' object has no attribute 'txt'",
     "output_type": "error",
     "traceback": [
      "\u001b[1;31m---------------------------------------------------------------------------\u001b[0m",
      "\u001b[1;31mAttributeError\u001b[0m                            Traceback (most recent call last)",
      "\u001b[1;32m<ipython-input-20-5358c3967446>\u001b[0m in \u001b[0;36m<module>\u001b[1;34m()\u001b[0m\n\u001b[0;32m      1\u001b[0m \u001b[0mfile\u001b[0m \u001b[1;33m=\u001b[0m \u001b[0minput\u001b[0m\u001b[1;33m(\u001b[0m\u001b[1;34m\"Enter a file: \"\u001b[0m\u001b[1;33m)\u001b[0m\u001b[1;33m\u001b[0m\u001b[0m\n\u001b[1;32m----> 2\u001b[1;33m \u001b[1;32mwith\u001b[0m \u001b[0mopen\u001b[0m\u001b[1;33m(\u001b[0m\u001b[0mfile\u001b[0m\u001b[1;33m.\u001b[0m\u001b[0mtxt\u001b[0m\u001b[1;33m)\u001b[0m \u001b[1;32mas\u001b[0m \u001b[0mf\u001b[0m\u001b[1;33m:\u001b[0m\u001b[1;33m\u001b[0m\u001b[0m\n\u001b[0m\u001b[0;32m      3\u001b[0m     \u001b[0mtext\u001b[0m \u001b[1;33m=\u001b[0m \u001b[0mf\u001b[0m\u001b[1;33m.\u001b[0m\u001b[0mread\u001b[0m\u001b[1;33m(\u001b[0m\u001b[1;33m)\u001b[0m\u001b[1;33m\u001b[0m\u001b[0m\n\u001b[0;32m      4\u001b[0m \u001b[1;33m\u001b[0m\u001b[0m\n\u001b[0;32m      5\u001b[0m \u001b[0mprint\u001b[0m\u001b[1;33m(\u001b[0m\u001b[0mchar_counter\u001b[0m\u001b[1;33m(\u001b[0m\u001b[0mtext\u001b[0m\u001b[1;33m,\u001b[0m \u001b[1;34m\"r\"\u001b[0m\u001b[1;33m)\u001b[0m\u001b[1;33m)\u001b[0m\u001b[1;33m\u001b[0m\u001b[0m\n",
      "\u001b[1;31mAttributeError\u001b[0m: 'str' object has no attribute 'txt'"
     ]
    }
   ],
   "source": [
    "file = input(\"Enter a file: \")\n",
    "with open(file.txt) as f:\n",
    "    text = f.read()\n",
    "\n",
    "print(char_counter(text, \"r\"))"
   ]
  },
  {
   "cell_type": "code",
   "execution_count": 25,
   "metadata": {},
   "outputs": [
    {
     "name": "stdout",
     "output_type": "stream",
     "text": [
      "16\n"
     ]
    }
   ],
   "source": [
    "# functional programming\n",
    "\n",
    "def make_twice(func, arg):\n",
    "    return func(func(arg))\n",
    "\n",
    "def add_five(x):\n",
    "    return x + 5\n",
    "\n",
    "final = make_twice(add_five, 6)\n",
    "print(final)"
   ]
  },
  {
   "cell_type": "code",
   "execution_count": 36,
   "metadata": {},
   "outputs": [
    {
     "name": "stdout",
     "output_type": "stream",
     "text": [
      "3\n",
      "2\n"
     ]
    },
    {
     "data": {
      "text/plain": [
       "11"
      ]
     },
     "execution_count": 36,
     "metadata": {},
     "output_type": "execute_result"
    }
   ],
   "source": [
    "# pure function\n",
    "\n",
    "def pure_func(x, y):\n",
    "    temp = x * y\n",
    "    return temp + 5\n",
    "\n",
    "x = int(input())\n",
    "y = int(input())\n",
    "pure_func(x, y)\n",
    "\n",
    "#pure_func(2, 3)"
   ]
  },
  {
   "cell_type": "code",
   "execution_count": 43,
   "metadata": {},
   "outputs": [
    {
     "name": "stdout",
     "output_type": "stream",
     "text": [
      "0\n",
      "0\n",
      "10\n"
     ]
    }
   ],
   "source": [
    "# comparison\n",
    "\n",
    "# named function\n",
    "def polynomial(x):\n",
    "    return(x**2 + 5*x + 4)\n",
    "print(polynomial(-4))\n",
    "\n",
    "#lambda function\n",
    "print((lambda x: x**2 + 5*x +4)(-4))\n",
    "\n",
    "# lambda function as variable\n",
    "double = lambda x: x *2\n",
    "print(double(5))"
   ]
  },
  {
   "cell_type": "code",
   "execution_count": 50,
   "metadata": {},
   "outputs": [
    {
     "name": "stdout",
     "output_type": "stream",
     "text": [
      "[2, 4, 6, 8, 10]\n",
      "[2, 4, 6, 8, 10]\n",
      "[20]\n",
      "[20]\n"
     ]
    }
   ],
   "source": [
    "# Map\n",
    "\n",
    "def make_double(x):\n",
    "    return x * 2\n",
    "\n",
    "marks = [1, 2, 3, 4, 5]\n",
    "result = map(make_double, marks)\n",
    "print(list(result)) # converted to list\n",
    "\n",
    "# by lambda\n",
    "result = map(lambda x : x *2, marks)\n",
    "print(list(result))\n",
    "\n",
    "def add_10(x):\n",
    "    return x + 10\n",
    "\n",
    "mark = [10] # one value but no problem, should be in iterable eg. list\n",
    "result = map(add_10, mark)\n",
    "print(list(result))\n",
    "\n",
    "result = map(lambda x: x +10, mark)\n",
    "print(list(result))\n"
   ]
  },
  {
   "cell_type": "code",
   "execution_count": 52,
   "metadata": {},
   "outputs": [
    {
     "name": "stdout",
     "output_type": "stream",
     "text": [
      "[2, 4, 6, 8, 10]\n",
      "[2, 4, 6, 8, 10]\n"
     ]
    }
   ],
   "source": [
    "# Filter \n",
    "\n",
    "def even(x):\n",
    "    return x % 2 == 0\n",
    "marks = [1, 2, 3, 4, 5, 6, 7, 8, 9, 10]\n",
    "res = filter(even, marks)\n",
    "print(list(res))\n",
    "\n",
    "# using lambda\n",
    "res = filter(lambda x: x % 2 == 0, marks)\n",
    "print(list(res))"
   ]
  },
  {
   "cell_type": "code",
   "execution_count": 65,
   "metadata": {},
   "outputs": [
    {
     "name": "stdout",
     "output_type": "stream",
     "text": [
      "5\n",
      "4\n",
      "3\n",
      "2\n",
      "1\n",
      "[0, 2, 4, 6, 8]\n"
     ]
    }
   ],
   "source": [
    "# Generator\n",
    "\n",
    "def count(x):\n",
    "    i = 5\n",
    "    while i > 0:\n",
    "        yield i\n",
    "        i -= 1\n",
    "\n",
    "for i in count(x):\n",
    "    print(i)\n",
    "    \n",
    "    \n",
    "#even number generator\n",
    "def even_num(y):\n",
    "    for i in range(y):\n",
    "        if i % 2 == 0:\n",
    "            yield i\n",
    "\n",
    "print(list(even_num(10)))\n",
    "        "
   ]
  },
  {
   "cell_type": "code",
   "execution_count": 80,
   "metadata": {},
   "outputs": [
    {
     "name": "stdout",
     "output_type": "stream",
     "text": [
      "=====---------=====\n",
      "Wrap this sentence!\n",
      "=====---------=====\n",
      "\n",
      "\n",
      "=====---------=====\n",
      "Wrap this sentence by decorated function defined above.\n",
      "=====---------=====\n"
     ]
    }
   ],
   "source": [
    "# Decorator\n",
    "def my_decorator(func):\n",
    "    def wrap():\n",
    "        print(\"=====---------=====\")\n",
    "        func()\n",
    "        print(\"=====---------=====\")\n",
    "    return wrap\n",
    "\n",
    "def print_text():\n",
    "    print(\"Wrap this sentence!\")\n",
    "\n",
    "wrapped = my_decorator(print_text)\n",
    "wrapped()\n",
    "\n",
    "print(\"\\n\")\n",
    "\n",
    "@my_decorator\n",
    "def print_line():\n",
    "    print(\"Wrap this sentence by decorated function defined above.\")\n",
    "\n",
    "print_line()\n"
   ]
  },
  {
   "cell_type": "code",
   "execution_count": 81,
   "metadata": {},
   "outputs": [
    {
     "data": {
      "text/plain": [
       "120"
      ]
     },
     "execution_count": 81,
     "metadata": {},
     "output_type": "execute_result"
    }
   ],
   "source": [
    "# Recusrsion\n",
    "\n",
    "def fact(x):\n",
    "    if x == 1:\n",
    "        return 1\n",
    "    else: \n",
    "        return x * fact(x-1)\n",
    "    \n",
    "fact(5)"
   ]
  },
  {
   "cell_type": "code",
   "execution_count": 90,
   "metadata": {},
   "outputs": [
    {
     "name": "stdout",
     "output_type": "stream",
     "text": [
      "True\n",
      "False\n",
      "True\n",
      "True\n",
      "False\n"
     ]
    }
   ],
   "source": [
    "def is_even(x):\n",
    "    if x == 0:\n",
    "        return True\n",
    "    else:\n",
    "        return is_odd(x-1)\n",
    "\n",
    "def is_odd(x):\n",
    "    return not is_even(x)\n",
    "\n",
    "\n",
    "print(is_odd(23))\n",
    "print(is_even(17))\n",
    "print(is_even(18))\n",
    "print(is_even(28))\n",
    "print(is_odd(26))"
   ]
  },
  {
   "cell_type": "code",
   "execution_count": 94,
   "metadata": {},
   "outputs": [
    {
     "name": "stdout",
     "output_type": "stream",
     "text": [
      "{1, 2, 3, 4, 5}\n",
      "{'b', 'a', 'c', 'd', 'e'}\n",
      "True\n",
      "False\n",
      "False\n"
     ]
    }
   ],
   "source": [
    "# Set\n",
    "num_set = {1, 2, 3, 4, 5}\n",
    "word_set = set(['a', 'b', 'c', 'd', 'e'])\n",
    "\n",
    "print(num_set)\n",
    "print(word_set)\n",
    "\n",
    "print(3 in num_set)\n",
    "print('f' in word_set)\n",
    "print('a' not in word_set)"
   ]
  },
  {
   "cell_type": "code",
   "execution_count": 99,
   "metadata": {},
   "outputs": [
    {
     "name": "stdout",
     "output_type": "stream",
     "text": [
      "{1, 2, 3, 4, 5, 6, 7, 8, 9, 10}\n",
      "{1, 2, 3, 4, 5, 6, 7, 8, 9, 10, 11}\n",
      "{2, 3, 4, 5, 6, 7, 8, 9, 10, 11}\n"
     ]
    }
   ],
   "source": [
    "num = {1, 2, 3, 4, 5, 5, 6, 6, 7, 1, 2, 8, 9, 10}\n",
    "print(num)\n",
    "num.add(11)\n",
    "print(num)\n",
    "num.remove(1)\n",
    "print(num)"
   ]
  },
  {
   "cell_type": "code",
   "execution_count": 100,
   "metadata": {},
   "outputs": [
    {
     "name": "stdout",
     "output_type": "stream",
     "text": [
      "{1, 2, 3, 4, 5, 6, 7, 8}\n",
      "{5, 6}\n",
      "{1, 2, 3, 4}\n",
      "{1, 2, 3, 4, 7, 8}\n"
     ]
    }
   ],
   "source": [
    "set_1 = {1, 2, 3, 4, 5, 6}\n",
    "set_2 = {5, 6, 7, 8}\n",
    "\n",
    "print(set_1 | set_2)\n",
    "print(set_1 & set_2)\n",
    "print(set_1 - set_2)\n",
    "print(set_1 ^ set_2)"
   ]
  },
  {
   "cell_type": "code",
   "execution_count": 105,
   "metadata": {},
   "outputs": [
    {
     "name": "stdout",
     "output_type": "stream",
     "text": [
      "5\n",
      "6\n",
      "7\n",
      "8\n",
      "9\n",
      "10\n"
     ]
    }
   ],
   "source": [
    "# itertools\n",
    "\n",
    "from itertools import count\n",
    "\n",
    "for i in count(5):\n",
    "    print(i)\n",
    "    if i >= 10:\n",
    "        break\n",
    "        \n"
   ]
  },
  {
   "cell_type": "code",
   "execution_count": 110,
   "metadata": {},
   "outputs": [
    {
     "name": "stdout",
     "output_type": "stream",
     "text": [
      "[0, 1, 3, 6, 10, 15, 21, 28, 36, 45]\n",
      "[0, 1, 3, 6, 10, 15]\n"
     ]
    }
   ],
   "source": [
    "from itertools import accumulate, takewhile\n",
    "\n",
    "num = list(accumulate(range(10)))\n",
    "print(num)\n",
    "\n",
    "print(list(takewhile(lambda x: x<=20, num)))"
   ]
  },
  {
   "cell_type": "code",
   "execution_count": 111,
   "metadata": {},
   "outputs": [
    {
     "name": "stdout",
     "output_type": "stream",
     "text": [
      "[('A', 0), ('A', 1), ('A', 2), ('B', 0), ('B', 1), ('B', 2), ('C', 0), ('C', 1), ('C', 2)]\n",
      "[('A', 'B', 'C'), ('A', 'C', 'B'), ('B', 'A', 'C'), ('B', 'C', 'A'), ('C', 'A', 'B'), ('C', 'B', 'A')]\n"
     ]
    }
   ],
   "source": [
    "from itertools import product, permutations\n",
    "letters = (\"A\", \"B\", \"C\")\n",
    "\n",
    "print(list(product(letters, range(3)))) # kinda CARTESIAN product\n",
    "print(list(permutations(letters)))"
   ]
  },
  {
   "cell_type": "code",
   "execution_count": 155,
   "metadata": {},
   "outputs": [
    {
     "name": "stdout",
     "output_type": "stream",
     "text": [
      "ginger\n",
      "4\n",
      "brown\n",
      "Meeewwwaaaoooo\n",
      "\n",
      "\n",
      "Fogthing is Black and has 5 heads.\n",
      "Mournsnake is Yellow and has 4 heads.\n",
      "Tangleface is Red and has 3 heads.\n",
      "\n",
      "\n",
      "Just attack a hero..........huhahahhahahhaa\n",
      "Just attack a hero..........huhahahhahahhaa\n"
     ]
    }
   ],
   "source": [
    "# Class\n",
    "\n",
    "#blueprint to create Cat class\n",
    "class Cat:\n",
    "    def __init__(self, color, legs):\n",
    "        self.color = color\n",
    "        self.legs = legs\n",
    "        \n",
    "    def purr(self):\n",
    "        print(\"Meeewwwaaaoooo\")\n",
    "        \n",
    "#creating some objects\n",
    "felix = Cat(\"ginger\", 4)\n",
    "rover = Cat(\"dog-colored\", 4)\n",
    "stumpy = Cat(\"brown\", 3)\n",
    "\n",
    "print(felix.color)\n",
    "print(rover.legs)\n",
    "print(stumpy.color)\n",
    "felix.purr()\n",
    "\n",
    "print(\"\\n\")\n",
    "\n",
    "#blueprint to create Monster class (howtocode)\n",
    "class Monster:\n",
    "    def __init__(self, color, heads):\n",
    "        self.color = color\n",
    "        self.heads = heads\n",
    "    \n",
    "    def attack(self):\n",
    "        print(\"Just attack a hero..........huhahahhahahhaa\")\n",
    "        \n",
    "#creating objects/ instances\n",
    "fogthing = Monster(\"Black\", 5)\n",
    "mournsnake = Monster(\"Yellow\", 4)\n",
    "tangleface = Monster(\"Red\", 3)\n",
    "\n",
    "print(\"Fogthing is \" + fogthing.color + \" and has \" + str(fogthing.heads) + \" heads.\" )\n",
    "print(\"Mournsnake is \" + mournsnake.color + \" and has \" + str(mournsnake.heads) + \" heads.\" )\n",
    "print(\"Tangleface is \" + tangleface.color + \" and has \" + str(tangleface.heads) + \" heads.\" )\n",
    "\n",
    "print(\"\\n\")\n",
    "fogthing.attack()\n",
    "mournsnake.attack()"
   ]
  },
  {
   "cell_type": "code",
   "execution_count": 149,
   "metadata": {},
   "outputs": [
    {
     "name": "stdout",
     "output_type": "stream",
     "text": [
      "4\n",
      "Fido has 4 legs.\n",
      "Felix has 4 legs.\n",
      "Woooooooof!\n"
     ]
    }
   ],
   "source": [
    "# class attribute\n",
    "\n",
    "class Dog:\n",
    "    legs = 4 # class attribute that is accessed by every single object/instance of the Dog class\n",
    "    \n",
    "    def __init__(self, name, color):\n",
    "        self.name = name\n",
    "        self.color = color\n",
    "    \n",
    "    def bark(self):\n",
    "        print(\"Woooooooof!\")\n",
    "        \n",
    "fido = Dog(\"Fido\", \"brown\")\n",
    "felix = Dog(\"Felix\", \"black\")\n",
    "\n",
    "print(Dog.legs)\n",
    "print(fido.name + \" has \" + str(fido.legs) + \" legs.\")\n",
    "print(felix.name + \" has \" + str(felix.legs) + \" legs.\")\n",
    "fido.bark()"
   ]
  },
  {
   "cell_type": "code",
   "execution_count": 154,
   "metadata": {},
   "outputs": [
    {
     "name": "stdout",
     "output_type": "stream",
     "text": [
      "Fogthing\n",
      "Yessss...hero is attacked\n",
      "Grrrrrrr\n",
      "\n",
      "\n",
      "red\n",
      "Yessss...hero is attacked\n",
      "Grrrrrrr\n",
      "Hiyaaaa\n"
     ]
    }
   ],
   "source": [
    "# Inheritance\n",
    "\n",
    "class Monster:\n",
    "    def __init__(self, name, color):\n",
    "        self.name = name\n",
    "        self.color = color\n",
    "    \n",
    "    def attack(self):\n",
    "        print(\"Yessss...hero is attacked\")\n",
    "\n",
    "class Fogthing(Monster): # Fogthing class interits Monster class\n",
    "    def make_sound(self):\n",
    "        print(\"Grrrrrrr\")\n",
    "\n",
    "class Mournsnake(Monster): \n",
    "    def make_sound(self):\n",
    "        print(\"Hissssssh\")\n",
    "\n",
    "class Tangleface(Fogthing): # Tangleface can inherit Monster(by default) as well as Fogthing\n",
    "    def make_sound_tangle(self):\n",
    "        print(\"Hiyaaaa\")\n",
    "    \n",
    "    \n",
    "\n",
    "# creating objects\n",
    "fogthing = Fogthing(\"Fogthing\", \"brown\")\n",
    "print(fogthing.name)\n",
    "fogthing.attack()\n",
    "fogthing.make_sound()\n",
    "\n",
    "print(\"\\n\")\n",
    "\n",
    "tangleface = Tangleface(\"Tangleface\", \"red\")\n",
    "print(tangleface.color)\n",
    "tangleface.attack()\n",
    "tangleface.make_sound()\n",
    "tangleface.make_sound_tangle()"
   ]
  },
  {
   "cell_type": "code",
   "execution_count": 156,
   "metadata": {},
   "outputs": [
    {
     "name": "stdout",
     "output_type": "stream",
     "text": [
      "Husky\n",
      "brown\n",
      "Whooooof\n",
      "Attack them!\n"
     ]
    }
   ],
   "source": [
    "# Overriding - method / attributes\n",
    "\n",
    "class Wolf:\n",
    "    def __init__(self, name, color):\n",
    "        self.name = name\n",
    "        self.color = color\n",
    "        \n",
    "    def bark(self):\n",
    "        print(\"Grrrrrrrrr\")\n",
    "        \n",
    "        \n",
    "class Dog(Wolf):\n",
    "    def bark(self):\n",
    "        print(\"Whooooof\")\n",
    "        \n",
    "    def attack(self):\n",
    "        print(\"Attack them!\")\n",
    "        \n",
    "#creating object\n",
    "husky = Dog(\"Husky\", \"brown\")\n",
    "print(husky.name)\n",
    "print(husky.color)\n",
    "husky.bark()\n",
    "husky.attack()"
   ]
  },
  {
   "cell_type": "code",
   "execution_count": 158,
   "metadata": {},
   "outputs": [
    {
     "name": "stdout",
     "output_type": "stream",
     "text": [
      "I am from A\n"
     ]
    }
   ],
   "source": [
    "# Multiple inheritance \n",
    "\n",
    "class A:\n",
    "    def level(self):\n",
    "        print(\"I am from A\")\n",
    "        \n",
    "class B:\n",
    "    def level(self):\n",
    "        print(\"I am from B\")\n",
    "        \n",
    "class C(A,B):\n",
    "    pass\n",
    "\n",
    "c = C() # creating an object of C class\n",
    "c.level()\n",
    "\n",
    "# execution will be done chronologically from super class"
   ]
  },
  {
   "cell_type": "code",
   "execution_count": 5,
   "metadata": {},
   "outputs": [
    {
     "name": "stdout",
     "output_type": "stream",
     "text": [
      "B\n",
      "A\n"
     ]
    }
   ],
   "source": [
    "# super Keyword\n",
    "\n",
    "class A:\n",
    "    def spam(self):\n",
    "        print(\"A\")\n",
    "\n",
    "class B(A):\n",
    "    def spam(self):\n",
    "        print(\"B\")\n",
    "        super().spam()\n",
    "\n",
    "b = B() #object of B \n",
    "b.spam()"
   ]
  },
  {
   "cell_type": "code",
   "execution_count": 1,
   "metadata": {},
   "outputs": [
    {
     "name": "stdout",
     "output_type": "stream",
     "text": [
      "8\n",
      "16\n"
     ]
    }
   ],
   "source": [
    "# magic method\n",
    "\n",
    "class Vector2D:\n",
    "    def __init__(self, x, y):\n",
    "        self.x = x\n",
    "        self.y = y\n",
    "        \n",
    "    def __add__(self, other):\n",
    "        return Vector2D(self.x + other.x, self.y + other.y)\n",
    "\n",
    "#creating objecet: \n",
    "first = Vector2D(5, 7)\n",
    "second = Vector2D(3, 9)\n",
    "result = first + second\n",
    "print(result.x)\n",
    "print(result.y)"
   ]
  },
  {
   "cell_type": "code",
   "execution_count": 10,
   "metadata": {},
   "outputs": [
    {
     "name": "stdout",
     "output_type": "stream",
     "text": [
      "5\n"
     ]
    }
   ],
   "source": [
    "# Operator overloading\n",
    "\n",
    "class MyNum:\n",
    "    def __init__(self, value):\n",
    "        self.value = value\n",
    "        \n",
    "    def __add__(self, other):\n",
    "        return(self.value) + (other.value)\n",
    "\n",
    "a = MyNum(2)\n",
    "b = MyNum(3)\n",
    "c = a + b \n",
    "\n",
    "print(c)"
   ]
  },
  {
   "cell_type": "code",
   "execution_count": 13,
   "metadata": {},
   "outputs": [
    {
     "name": "stdout",
     "output_type": "stream",
     "text": [
      "11\n",
      "\n",
      "\n",
      "11\n"
     ]
    }
   ],
   "source": [
    "class MyInt():\n",
    "    def __init__(self, value):\n",
    "        self.__value = value\n",
    "\n",
    "    def __int__(self):\n",
    "        return self.__value\n",
    "\n",
    "    def __add__(self, other):\n",
    "        return self.__value + int(other) * int(other)\n",
    "\n",
    "\n",
    "a = MyInt(2)\n",
    "b = MyInt(3)\n",
    "c = a + b\n",
    "print(c)\n",
    "\n",
    "\n",
    "\n",
    "print(\"\\n\")\n",
    "\n",
    "\n",
    "class MyInt():\n",
    "    def __init__(self, value):\n",
    "        self.__value = value\n",
    "\n",
    "    def __int__(self):\n",
    "        return self.__value\n",
    "\n",
    "\n",
    "    def __iadd__(self, other):\n",
    "        return self.__value + int(other) * int(other)\n",
    "\n",
    "\n",
    "a = MyInt(2)\n",
    "\n",
    "a += MyInt(3)\n",
    "\n",
    "print(a)"
   ]
  },
  {
   "cell_type": "code",
   "execution_count": 22,
   "metadata": {},
   "outputs": [
    {
     "name": "stdout",
     "output_type": "stream",
     "text": [
      "[1, 2, 3]\n",
      "[0, 1, 2, 3]\n",
      "[0, 1, 2]\n",
      "\n",
      "\n",
      "[0, 1, 2]\n"
     ]
    }
   ],
   "source": [
    "# Data hiding\n",
    "\n",
    "class Queue:\n",
    "    def __init__(self, contents):\n",
    "        self._hiddenlist = list(contents)\n",
    "        \n",
    "    def push(self, value):\n",
    "        self._hiddenlist.insert(0, value)\n",
    "    \n",
    "    def pop(self):\n",
    "        return self._hiddenlist.pop(-1)\n",
    "    \n",
    "    def _showlist(self):\n",
    "        return self._hiddenlist\n",
    "\n",
    "\n",
    "queue = Queue([1, 2, 3])\n",
    "print(queue._hiddenlist)\n",
    "\n",
    "queue.push(0)\n",
    "print(queue._hiddenlist)\n",
    "\n",
    "queue.pop()\n",
    "print(queue._hiddenlist)\n",
    "\n",
    "print(\"\\n\")\n",
    "\n",
    "print(queue._showlist())"
   ]
  },
  {
   "cell_type": "code",
   "execution_count": 36,
   "metadata": {},
   "outputs": [
    {
     "name": "stdout",
     "output_type": "stream",
     "text": [
      "7\n",
      "7\n"
     ]
    }
   ],
   "source": [
    "# strongly private\n",
    "\n",
    "class Spam:\n",
    "    __egg = 7\n",
    "    \n",
    "    def print_egg(self):\n",
    "        print(self.__egg)\n",
    "\n",
    "s = Spam()\n",
    "s.print_egg()\n",
    "\n",
    "# print(s.__egg) # not accessable\n",
    "\n",
    "print(s._Spam__egg) #accessable\n"
   ]
  },
  {
   "cell_type": "code",
   "execution_count": 40,
   "metadata": {},
   "outputs": [
    {
     "name": "stdout",
     "output_type": "stream",
     "text": [
      "25\n"
     ]
    }
   ],
   "source": [
    "# Class Method\n",
    "\n",
    "class Rectangle:\n",
    "    def __init__(self, width, height):\n",
    "        self.width = width\n",
    "        self.height = height\n",
    "        \n",
    "    def calculate_area(self):\n",
    "        return (self.width * self.height)\n",
    "    \n",
    "    @classmethod\n",
    "    def new_square(cls, side_length):\n",
    "        return cls(side_length, side_length)\n",
    "\n",
    "square = Rectangle.new_square(5)\n",
    "print(square.calculate_area())"
   ]
  },
  {
   "cell_type": "code",
   "execution_count": 45,
   "metadata": {
    "collapsed": true
   },
   "outputs": [],
   "source": [
    "# Static method\n",
    "\n",
    "class Pizza:\n",
    "    def __init__(self, toppings):\n",
    "        self.toppings = toppings\n",
    "\n",
    "    @staticmethod\n",
    "    def validate_topping(topping):\n",
    "        if topping == \"pineapple\":\n",
    "            raise ValueError(\"No pineapples!\")\n",
    "        else:\n",
    "            return True\n",
    "\n",
    "ingredients = [\"cheese\", \"onions\", \"spam\"]\n",
    "if all(Pizza.validate_topping(i) for i in ingredients):\n",
    "    pizza = Pizza(ingredients)\n",
    "    "
   ]
  },
  {
   "cell_type": "code",
   "execution_count": 47,
   "metadata": {},
   "outputs": [
    {
     "name": "stdout",
     "output_type": "stream",
     "text": [
      "False\n"
     ]
    },
    {
     "ename": "AttributeError",
     "evalue": "can't set attribute",
     "output_type": "error",
     "traceback": [
      "\u001b[1;31m---------------------------------------------------------------------------\u001b[0m",
      "\u001b[1;31mAttributeError\u001b[0m                            Traceback (most recent call last)",
      "\u001b[1;32m<ipython-input-47-d7896a261c02>\u001b[0m in \u001b[0;36m<module>\u001b[1;34m()\u001b[0m\n\u001b[0;32m     11\u001b[0m \u001b[0mpizza\u001b[0m \u001b[1;33m=\u001b[0m \u001b[0mPizza\u001b[0m\u001b[1;33m(\u001b[0m\u001b[1;33m[\u001b[0m\u001b[1;34m\"cheese\"\u001b[0m\u001b[1;33m,\u001b[0m \u001b[1;34m\"tomato\"\u001b[0m\u001b[1;33m]\u001b[0m\u001b[1;33m)\u001b[0m\u001b[1;33m\u001b[0m\u001b[0m\n\u001b[0;32m     12\u001b[0m \u001b[0mprint\u001b[0m\u001b[1;33m(\u001b[0m\u001b[0mpizza\u001b[0m\u001b[1;33m.\u001b[0m\u001b[0mpineapple_allowed\u001b[0m\u001b[1;33m)\u001b[0m\u001b[1;33m\u001b[0m\u001b[0m\n\u001b[1;32m---> 13\u001b[1;33m \u001b[0mpizza\u001b[0m\u001b[1;33m.\u001b[0m\u001b[0mpineapple_allowed\u001b[0m \u001b[1;33m=\u001b[0m \u001b[1;32mTrue\u001b[0m\u001b[1;33m\u001b[0m\u001b[0m\n\u001b[0m",
      "\u001b[1;31mAttributeError\u001b[0m: can't set attribute"
     ]
    }
   ],
   "source": [
    "# Properties\n",
    "\n",
    "class Pizza:\n",
    "    def __init__(self, toppings):\n",
    "        self.toppings = toppings\n",
    "        \n",
    "    @property\n",
    "    def pineapple_allowed(self):\n",
    "        return False\n",
    "    \n",
    "pizza = Pizza([\"cheese\", \"tomato\"])\n",
    "print(pizza.pineapple_allowed)\n",
    "\n",
    "pizza.pineapple_allowed = True"
   ]
  },
  {
   "cell_type": "code",
   "execution_count": 50,
   "metadata": {},
   "outputs": [
    {
     "name": "stdout",
     "output_type": "stream",
     "text": [
      "False\n",
      "Enter the password: Sw0rdf1sh!\n",
      "True\n"
     ]
    }
   ],
   "source": [
    "# setter - getter function\n",
    "\n",
    "class Pizza:\n",
    "    def __init__(self, toppings):\n",
    "        self.toppings = toppings\n",
    "        self._pineapple_allowed = False\n",
    "        \n",
    "    @property\n",
    "    def pineapple_allowed(self):\n",
    "        return self._pineapple_allowed\n",
    "    \n",
    "    @pineapple_allowed.setter\n",
    "    def pineapple_allowed(self, value):\n",
    "        if value:\n",
    "            password = input(\"Enter the password: \")\n",
    "            if password == \"Sw0rdf1sh!\":\n",
    "                self._pineapple_allowed = value\n",
    "        else:\n",
    "            raise ValueError(\"Alert! Intruder!\")\n",
    "\n",
    "            \n",
    "pizza = Pizza([\"cheese\", \"tomato\"])\n",
    "print(pizza.pineapple_allowed)\n",
    "pizza.pineapple_allowed = True\n",
    "print(pizza.pineapple_allowed)"
   ]
  },
  {
   "cell_type": "code",
   "execution_count": 55,
   "metadata": {},
   "outputs": [
    {
     "name": "stdout",
     "output_type": "stream",
     "text": [
      "Matched\n"
     ]
    }
   ],
   "source": [
    "# Regular expression\n",
    "\n",
    "# match finding in a string\n",
    "\n",
    "import re # re = regular expression\n",
    "\n",
    "pattern = r\"Bangla\"\n",
    "\n",
    "result = re.match(pattern, \"Bangladesh\")\n",
    "\n",
    "if result:\n",
    "    print(\"Matched\")\n",
    "else:\n",
    "    print(\"Not_matched\")"
   ]
  },
  {
   "cell_type": "code",
   "execution_count": 57,
   "metadata": {},
   "outputs": [
    {
     "name": "stdout",
     "output_type": "stream",
     "text": [
      "Matched\n",
      "['bangla', 'bangla']\n"
     ]
    }
   ],
   "source": [
    "# search, findall\n",
    "\n",
    "import re\n",
    "\n",
    "pattern = r\"Bangladesh\"\n",
    "\n",
    "if re.search(pattern, \"Bangladesh is the country of South Asia region.\"):\n",
    "    print(\"Matched\")\n",
    "else:\n",
    "    print(\"Not_matched\")\n",
    "\n",
    "    \n",
    "pattern = r\"bangla\"\n",
    "print(re.findall(pattern, \"Bangladeshi bangla and Indian bangla are different country region.\"))"
   ]
  },
  {
   "cell_type": "code",
   "execution_count": 59,
   "metadata": {},
   "outputs": [
    {
     "name": "stdout",
     "output_type": "stream",
     "text": [
      "bin\n",
      "3\n",
      "6\n",
      "(3, 6)\n"
     ]
    }
   ],
   "source": [
    "# method of return object\n",
    "\n",
    "import re\n",
    "\n",
    "pattern = r\"bin\"\n",
    "\n",
    "match = re.search(pattern, \"combination\")\n",
    "\n",
    "if match:\n",
    "    print(match.group()) # matched substring\n",
    "    print(match.start()) # match starting index\n",
    "    print(match.end()) # match ending index\n",
    "    print(match.span()) # matched index in a tuple"
   ]
  },
  {
   "cell_type": "code",
   "execution_count": 65,
   "metadata": {},
   "outputs": [
    {
     "name": "stdout",
     "output_type": "stream",
     "text": [
      "My name is David. \n",
      "Hi David.\n",
      "\n",
      "After replaced>>\n",
      "\n",
      "My name is Amy. \n",
      "Hi Amy.\n"
     ]
    }
   ],
   "source": [
    "# search and replace [sub]\n",
    "\n",
    "import re\n",
    "\n",
    "str = \"My name is David. \\nHi David.\"\n",
    "print(str)\n",
    "\n",
    "pattern = r\"David\"\n",
    "\n",
    "print(\"\\nAfter replaced>>\\n\")\n",
    "new_str = re.sub(pattern, \"Amy\", str)\n",
    "print(new_str)"
   ]
  },
  {
   "cell_type": "code",
   "execution_count": 8,
   "metadata": {},
   "outputs": [
    {
     "name": "stdout",
     "output_type": "stream",
     "text": [
      "Yes\n",
      "\n",
      "\n",
      "Yes\n",
      "git\n",
      "0\n",
      "3\n",
      "(0, 3)\n",
      "\n",
      "\n",
      "['A']\n",
      "\n",
      "\n",
      "github is a web-based hosting service for version control. Team -github (gitz)\n"
     ]
    }
   ],
   "source": [
    "# practice\n",
    "\n",
    "import re\n",
    "\n",
    "pattern = r\"git\"\n",
    "my_str = \"github is a web-based hosting service for version control. Team -github (A)\"\n",
    "pattern_sub = r\"A\"\n",
    "\n",
    "match = re.match(pattern, \"github\")\n",
    "search = re.search(pattern, my_str)\n",
    "\n",
    "if match:\n",
    "    print(\"Yes\")\n",
    "else:\n",
    "    print(\"No\")\n",
    "    \n",
    "print(\"\\n\")\n",
    "\n",
    "if search:\n",
    "    print(\"Yes\")\n",
    "    print(match.group())\n",
    "    print(match.start())\n",
    "    print(match.end())\n",
    "    print(match.span())\n",
    "else:\n",
    "    print(\"No\")\n",
    "\n",
    "print(\"\\n\")\n",
    "\n",
    "print(re.findall(pattern_sub, my_str))\n",
    "\n",
    "print(\"\\n\")\n",
    "\n",
    "new_str = re.sub(pattern_sub, \"gitz\", my_str)\n",
    "print(new_str)"
   ]
  },
  {
   "cell_type": "code",
   "execution_count": 19,
   "metadata": {},
   "outputs": [
    {
     "name": "stdout",
     "output_type": "stream",
     "text": [
      "Match 1\n",
      "Match 3\n"
     ]
    }
   ],
   "source": [
    "# Meta-characters (Dot) [works on line also]\n",
    "\n",
    "import re\n",
    "\n",
    "pattern = r\"gr.y\"\n",
    "\n",
    "if re.match(pattern, \"grey\"):\n",
    "    print(\"Match 1\")\n",
    "if re.match(pattern, \"green\"):\n",
    "    print(\"Match 2\")\n",
    "if re.match(pattern, \"gray\"):\n",
    "    print(\"Match 3\")\n",
    "if re.match(pattern, \"blue\"):\n",
    "    print(\"Match 4\")\n"
   ]
  },
  {
   "cell_type": "code",
   "execution_count": 21,
   "metadata": {},
   "outputs": [
    {
     "name": "stdout",
     "output_type": "stream",
     "text": [
      "Match 1\n",
      "Match 3\n"
     ]
    }
   ],
   "source": [
    "# meta character (^ - $) [works on single string, not on line]\n",
    "\n",
    "import re\n",
    "\n",
    "pattern = r\"^wr.te$\"\n",
    "\n",
    "if re.match(pattern, \"write\"):\n",
    "    print(\"Match 1\")\n",
    "if re.match(pattern, \"white\"):\n",
    "    print(\"Match 2\")\n",
    "if re.match(pattern, \"wrote\"):\n",
    "    print(\"Match 3\")\n",
    "if re.match(pattern, \"writer\"):\n",
    "    print(\"Match 4\")\n"
   ]
  },
  {
   "cell_type": "code",
   "execution_count": 23,
   "metadata": {},
   "outputs": [
    {
     "name": "stdout",
     "output_type": "stream",
     "text": [
      "The word 'gitz' has at least one vowel.\n",
      "The word 'holding buddy' has at least one vowel.\n",
      "No vowel found!\n"
     ]
    }
   ],
   "source": [
    "# character class\n",
    "\n",
    "import re\n",
    "\n",
    "# a char set containing all vowels\n",
    "pattern = r\"[aeiou]\"\n",
    "\n",
    "#lets check the string(word/line) holds at least one vowel[from vowel set PATTERN] or not\n",
    "\n",
    "if re.search(pattern, \"gitz\"):\n",
    "    print(\"The word 'gitz' has at least one vowel.\")\n",
    "else:\n",
    "    print(\"No vowel found!\")\n",
    "    \n",
    "if re.search(pattern, \"holding buddy\"):\n",
    "    print(\"The word 'holding buddy' has at least one vowel.\")\n",
    "else:\n",
    "    print(\"No vowel found!\")\n",
    "    \n",
    "if re.search(pattern, \"rythm myth\"):\n",
    "    print(\"The word 'rythm myth' has at least one vowel.\")\n",
    "else:\n",
    "    print(\"No vowel found!\")\n",
    "    "
   ]
  },
  {
   "cell_type": "code",
   "execution_count": 24,
   "metadata": {},
   "outputs": [
    {
     "name": "stdout",
     "output_type": "stream",
     "text": [
      "OK\n",
      "Not Ok !\n",
      "OK\n"
     ]
    }
   ],
   "source": [
    "# character range\n",
    "\n",
    "import re\n",
    "\n",
    "pattern = r\"[A-Z][a-z][0-9]\"\n",
    "\n",
    "if re.search(pattern, \"Put your headphones on and listen Mp3\"):\n",
    "    print(\"OK\")\n",
    "else:\n",
    "    print(\"Not Ok !\")\n",
    "    \n",
    "if re.search(pattern, \"Lets stuck on MJ5\"):\n",
    "    print(\"OK\")\n",
    "else:\n",
    "    print(\"Not Ok !\")\n",
    "    \n",
    "if re.search(pattern, \"Hold on buddy, Hi5\"):\n",
    "    print(\"OK\")\n",
    "else:\n",
    "    print(\"Not Ok !\")\n",
    "    "
   ]
  },
  {
   "cell_type": "code",
   "execution_count": 27,
   "metadata": {},
   "outputs": [
    {
     "name": "stdout",
     "output_type": "stream",
     "text": [
      "OK\n",
      "OK\n",
      "OK\n",
      "Not Ok !\n"
     ]
    }
   ],
   "source": [
    "# meta - ^\n",
    "\n",
    "import re\n",
    "\n",
    "pattern = r\"[^A-Z]\"\n",
    "\n",
    "if re.search(pattern, \"a sentence with all lower case.\"):\n",
    "    print(\"OK\")\n",
    "else:\n",
    "    print(\"Not Ok !\")\n",
    "    \n",
    "if re.search(pattern, \"A sentence with mixed English.\"):\n",
    "    print(\"OK\")\n",
    "else:\n",
    "    print(\"Not Ok !\")\n",
    "\n",
    "if re.search(pattern, \"ALL UPPER CASE\"): # space is not upper case \n",
    "    print(\"OK\")\n",
    "else:\n",
    "    print(\"Not Ok !\")\n",
    "\n",
    "if re.search(pattern, \"ALLUPPER\"):\n",
    "    print(\"OK\")\n",
    "else:\n",
    "    print(\"Not Ok !\")\n"
   ]
  },
  {
   "cell_type": "code",
   "execution_count": 29,
   "metadata": {},
   "outputs": [
    {
     "name": "stdout",
     "output_type": "stream",
     "text": [
      "Match 1\n",
      "Match 2\n"
     ]
    }
   ],
   "source": [
    "# more metacharacters - group | parenthesis (argument)* >>> 0 or more\n",
    "\n",
    "import re\n",
    "\n",
    "pattern = r\"egg(spam)*\" # must start with egg and follow with zero or more spam, but follwing spam is not mandatory\n",
    "\n",
    "if re.match(pattern, \"egg\"):\n",
    "    print(\"Match 1\")\n",
    "if re.match(pattern, \"eggspameggspamspamspamegg\"):\n",
    "    print(\"Match 2\")\n",
    "if re.match(pattern, \"spamegg\"):\n",
    "    print(\"Match 3\")"
   ]
  },
  {
   "cell_type": "code",
   "execution_count": 30,
   "metadata": {},
   "outputs": [
    {
     "name": "stdout",
     "output_type": "stream",
     "text": [
      "Match 1\n",
      "Match 2\n",
      "Match 3\n"
     ]
    }
   ],
   "source": [
    "# + >>> 1 or more\n",
    "\n",
    "import re \n",
    "\n",
    "pattern = r\"g+\"\n",
    "\n",
    "if re.match(pattern, \"g\"):\n",
    "    print(\"Match 1\")\n",
    "if re.match(pattern, \"gggg\"):\n",
    "    print(\"Match 2\")\n",
    "if re.match(pattern, \"gitz\"):\n",
    "    print(\"Match 3\")\n",
    "if re.match(pattern, \"abcg\"):\n",
    "    print(\"Match 4\")"
   ]
  },
  {
   "cell_type": "code",
   "execution_count": 31,
   "metadata": {},
   "outputs": [
    {
     "name": "stdout",
     "output_type": "stream",
     "text": [
      "Match 1\n",
      "Match 3\n"
     ]
    }
   ],
   "source": [
    "# ? >>> 0 or 1 repetations [not more than 1]\n",
    "\n",
    "import re\n",
    "\n",
    "pattern = r\"ice(-)?cream\"\n",
    "\n",
    "if re.match(pattern, \"ice-cream\"):\n",
    "    print(\"Match 1\")\n",
    "if re.match(pattern, \"ice--cream\"):\n",
    "    print(\"Match 2\")\n",
    "if re.match(pattern, \"icecream\"):\n",
    "    print(\"Match 3\")\n",
    "if re.match(pattern, \"sausages\"):\n",
    "    print(\"Match 4\")"
   ]
  },
  {
   "cell_type": "code",
   "execution_count": 39,
   "metadata": {},
   "outputs": [
    {
     "name": "stdout",
     "output_type": "stream",
     "text": [
      "Match 1\n",
      "Match 2\n",
      "Match 4\n"
     ]
    }
   ],
   "source": [
    "# curly braces {}\n",
    "\n",
    "import re \n",
    "\n",
    "pattern = r\"9{1,3}$\" # matches the string that has 1 to 3 nines\n",
    "\n",
    "if re.match(pattern, \"9\"):\n",
    "    print(\"Match 1\")\n",
    "if re.match(pattern, \"99\"):\n",
    "    print(\"Match 2\")\n",
    "if re.match(pattern, \"8998\"):\n",
    "    print(\"Match 3\")\n",
    "if re.match(pattern, \"999\"):\n",
    "    print(\"Match 4\")\n",
    "if re.match(pattern, \"9999\"):\n",
    "    print(\"Match 5\")"
   ]
  },
  {
   "cell_type": "code",
   "execution_count": 40,
   "metadata": {},
   "outputs": [
    {
     "name": "stdout",
     "output_type": "stream",
     "text": [
      "Ok\n",
      "Ok\n",
      "Not Ok!\n"
     ]
    }
   ],
   "source": [
    "# | (logical or)\n",
    "\n",
    "import re\n",
    "\n",
    "pattern = r\"gr(a|e)y\"\n",
    "\n",
    "if re.match(pattern, \"gray\"):\n",
    "    print(\"Ok\")\n",
    "else:\n",
    "    print(\"Not Ok!\")\n",
    "if re.match(pattern, \"grey\"):\n",
    "    print(\"Ok\")\n",
    "else:\n",
    "    print(\"Not Ok!\")\n",
    "if re.match(pattern, \"griy\"):\n",
    "    print(\"Ok\")\n",
    "else:\n",
    "    print(\"Not Ok!\")"
   ]
  },
  {
   "cell_type": "code",
   "execution_count": 52,
   "metadata": {},
   "outputs": [
    {
     "name": "stdout",
     "output_type": "stream",
     "text": [
      "Match 1\n",
      "Match 2\n",
      "Match 3\n",
      "Match 5\n"
     ]
    }
   ],
   "source": [
    "# Special sequence\n",
    "\n",
    "# \\1 >> if consecutive two or more string match return True \n",
    "\n",
    "import re\n",
    "\n",
    "pattern = r\"(.+) \\1\"\n",
    "\n",
    "if re.match(pattern, \"word word\"):\n",
    "    print(\"Match 1\")\n",
    "if re.match(pattern, \"?! ?!\"):\n",
    "    print(\"Match 2\")\n",
    "if re.match(pattern, \"P P\"):\n",
    "    print(\"Match 3\")\n",
    "if re.match(pattern, \"win won\"):\n",
    "    print(\"Match 4\")\n",
    "if re.match(pattern, \"hi hi hi ho\"):\n",
    "    print(\"Match 5\")\n",
    "if re.match(pattern, \"hi he hi\"):\n",
    "    print(\"Match 6\")"
   ]
  },
  {
   "cell_type": "code",
   "execution_count": 56,
   "metadata": {},
   "outputs": [
    {
     "name": "stdout",
     "output_type": "stream",
     "text": [
      "Match 1\n",
      "Match 2\n",
      "Match 5\n"
     ]
    }
   ],
   "source": [
    "# \\d >> digit __ \\s >> whitespace ___ \\w >> ASCII\n",
    "# \\D >> not digit __ \\S >> not whitespace\n",
    "\n",
    "import re\n",
    "\n",
    "pattern = r\"(\\D+\\d)\" # starts with somthing which is not digit and next is digit\n",
    "\n",
    "if re.match(pattern, \"Hi 1994\"):\n",
    "    print(\"Match 1\")\n",
    "if re.match(pattern, \"Call 999\"):\n",
    "    print(\"Match 2\")\n",
    "if re.match(pattern, \"0123 Call\"):\n",
    "    print(\"Match 3\")\n",
    "if re.match(pattern, \"  ?+\"):\n",
    "    print(\"Match 4\")\n",
    "if re.match(pattern, \"  909\"):\n",
    "    print(\"Match 5\")"
   ]
  },
  {
   "cell_type": "code",
   "execution_count": 71,
   "metadata": {},
   "outputs": [
    {
     "name": "stdout",
     "output_type": "stream",
     "text": [
      "Match 1\n",
      "Match 3\n",
      "Match 4\n",
      "Match 5\n",
      "Match 7\n"
     ]
    }
   ],
   "source": [
    "# \\b >>> word boundary [not letter boundary: case 2]\n",
    "\n",
    "import re\n",
    "\n",
    "pattern = r\"\\b(cat)\\b\"\n",
    "\n",
    "if re.search(pattern, \"The cat sat\"):\n",
    "    print(\"Match 1\")\n",
    "if re.search(pattern, \"They scattered\"):\n",
    "    print(\"Match 2\")\n",
    "if re.search(pattern, \"We cat/tered\"):\n",
    "    print(\"Match 3\")\n",
    "if re.search(pattern, \"We {cat/tered}\"):\n",
    "    print(\"Match 4\")\n",
    "if re.search(pattern, \"Dog and cat\"):\n",
    "    print(\"Match 5\")\n",
    "if re.search(pattern, \"Cat and dog.\"):\n",
    "    print(\"Match 6\")\n",
    "if re.search(pattern, \"cat and dog.\"):\n",
    "    print(\"Match 7\")"
   ]
  },
  {
   "cell_type": "code",
   "execution_count": 76,
   "metadata": {},
   "outputs": [
    {
     "name": "stdout",
     "output_type": "stream",
     "text": [
      "info@sololearn.com\n",
      "\n",
      "\n",
      "[('info', 'gitz', '.com'), ('info', 'sourav', '.net'), ('4927', 'diu.edu', '.bd')]\n"
     ]
    }
   ],
   "source": [
    "# Regular expression practice \n",
    "# Email Extraction\n",
    "\n",
    "'''          [\\w\\.-]+ \n",
    "matches one or more word character, dot or dash.\n",
    "The regex above says that the string should contain a word (with dots and dashes allowed), followed by the @ sign, \n",
    "then another similar word, then a dot and another word.'''\n",
    "\n",
    "\n",
    "\n",
    "import re\n",
    "\n",
    "pattern = r\"([\\w\\.-]+)@([\\w\\.-]+)(\\.[\\w\\.]+)\"\n",
    "\n",
    "str = \"please contact info@sololearn.com for assistance\"\n",
    "\n",
    "match = re.search(pattern, str)\n",
    "\n",
    "if match:\n",
    "    print(match.group())\n",
    "    \n",
    "print(\"\\n\")\n",
    "#In case the string contains multiple email addresses, \n",
    "#we could use the [re.findall] method instead of re.search, to extract all email addresses.\n",
    "\n",
    "e_str = \"contact with info@gitz.com or info@sourav.net or 4927@diu.edu.bd\"\n",
    "print(re.findall(pattern, e_str))\n"
   ]
  },
  {
   "cell_type": "code",
   "execution_count": null,
   "metadata": {
    "collapsed": true
   },
   "outputs": [],
   "source": []
  },
  {
   "cell_type": "code",
   "execution_count": null,
   "metadata": {
    "collapsed": true
   },
   "outputs": [],
   "source": []
  },
  {
   "cell_type": "code",
   "execution_count": 77,
   "metadata": {},
   "outputs": [
    {
     "name": "stdout",
     "output_type": "stream",
     "text": [
      "The Zen of Python, by Tim Peters\n",
      "\n",
      "Beautiful is better than ugly.\n",
      "Explicit is better than implicit.\n",
      "Simple is better than complex.\n",
      "Complex is better than complicated.\n",
      "Flat is better than nested.\n",
      "Sparse is better than dense.\n",
      "Readability counts.\n",
      "Special cases aren't special enough to break the rules.\n",
      "Although practicality beats purity.\n",
      "Errors should never pass silently.\n",
      "Unless explicitly silenced.\n",
      "In the face of ambiguity, refuse the temptation to guess.\n",
      "There should be one-- and preferably only one --obvious way to do it.\n",
      "Although that way may not be obvious at first unless you're Dutch.\n",
      "Now is better than never.\n",
      "Although never is often better than *right* now.\n",
      "If the implementation is hard to explain, it's a bad idea.\n",
      "If the implementation is easy to explain, it may be a good idea.\n",
      "Namespaces are one honking great idea -- let's do more of those!\n"
     ]
    }
   ],
   "source": [
    "# Pythonicness and Packaging\n",
    "\n",
    "# The Zen of Python\n",
    "\n",
    "import this"
   ]
  },
  {
   "cell_type": "code",
   "execution_count": 81,
   "metadata": {},
   "outputs": [
    {
     "name": "stdout",
     "output_type": "stream",
     "text": [
      "Pasta\n",
      "Burger\n"
     ]
    }
   ],
   "source": [
    "# default value of a function\n",
    "\n",
    "def func(a, b, food = \"Pasta\"):\n",
    "    print(food)\n",
    "    \n",
    "func(1, 2)\n",
    "func(3, 4, \"Burger\") # default value is overridden/ignored"
   ]
  },
  {
   "cell_type": "code",
   "execution_count": 87,
   "metadata": {},
   "outputs": [
    {
     "name": "stdout",
     "output_type": "stream",
     "text": [
      "1\n",
      "2\n",
      "3\n",
      "================\n",
      "1\n",
      "2\n",
      "[3, 4, 5]\n",
      "6\n",
      "7\n"
     ]
    }
   ],
   "source": [
    "# Tuple unpacking\n",
    "\n",
    "nums = (1, 2, 3)\n",
    "a, b, c = nums\n",
    "\n",
    "print(a)\n",
    "print(b)\n",
    "print(c)\n",
    "\n",
    "print(\"================\")\n",
    "\n",
    "nums_2 = (1, 2, 3, 4, 5, 6, 7)\n",
    "a, b, *c, d, e = nums_2\n",
    "print(a)\n",
    "print(b)\n",
    "print(c)\n",
    "print(d)\n",
    "print(e)"
   ]
  },
  {
   "cell_type": "code",
   "execution_count": 89,
   "metadata": {},
   "outputs": [
    {
     "name": "stdout",
     "output_type": "stream",
     "text": [
      "5\n",
      "Login\n"
     ]
    }
   ],
   "source": [
    "# Ternary operator\n",
    "\n",
    "a = 10\n",
    "b = 5 if a <=10 else 15\n",
    "\n",
    "print(b)\n",
    "\n",
    "status = 1\n",
    "msg = \"Login\" if status == 1 else \"Logout\"\n",
    "print(msg)"
   ]
  },
  {
   "cell_type": "code",
   "execution_count": null,
   "metadata": {
    "collapsed": true
   },
   "outputs": [],
   "source": []
  }
 ],
 "metadata": {
  "kernelspec": {
   "display_name": "Python 3",
   "language": "python",
   "name": "python3"
  },
  "language_info": {
   "codemirror_mode": {
    "name": "ipython",
    "version": 3
   },
   "file_extension": ".py",
   "mimetype": "text/x-python",
   "name": "python",
   "nbconvert_exporter": "python",
   "pygments_lexer": "ipython3",
   "version": "3.6.3"
  }
 },
 "nbformat": 4,
 "nbformat_minor": 2
}
