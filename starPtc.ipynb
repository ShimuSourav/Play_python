{
 "cells": [
  {
   "cell_type": "code",
   "execution_count": null,
   "metadata": {
    "collapsed": true
   },
   "outputs": [],
   "source": [
    "# Print as many stars as given in input\n",
    "\n",
    "star = int(input(\"Enter the number to be printed: \"))\n",
    "for i in range(star):\n",
    "    print()"
   ]
  },
  {
   "cell_type": "code",
   "execution_count": null,
   "metadata": {
    "collapsed": true
   },
   "outputs": [],
   "source": [
    "num_stars = 3\n",
    "num_printed = 0\n",
    "\n",
    "while num_printed < num_stars:\n",
    "    print('*')\n",
    "    num_printed += 1"
   ]
  },
  {
   "cell_type": "code",
   "execution_count": 2,
   "metadata": {},
   "outputs": [
    {
     "name": "stdout",
     "output_type": "stream",
     "text": [
      "        * \n",
      "      * * \n",
      "    * * * \n",
      "  * * * * \n",
      "* * * * * \n"
     ]
    }
   ],
   "source": [
    "k = 8\n",
    "for i in range(0, 5):\n",
    "\tfor j in range(0, k):\n",
    "\t\tprint(end=\" \")\n",
    "\tk = k - 2\n",
    "\tfor j in range(0, i+1):\n",
    "\t\tprint(\"* \", end=\"\")\n",
    "\tprint()"
   ]
  },
  {
   "cell_type": "code",
   "execution_count": 5,
   "metadata": {},
   "outputs": [],
   "source": [
    "def Diamond(rows):\n",
    "    n = 0\n",
    "    for i in range(1, rows+1):\n",
    "        # loop to print spaces\n",
    "        for j in range (1, (rows-i)+1):\n",
    "            print(end=\" \")\n",
    "         \n",
    "        # loop to print star\n",
    "        while n != (2*i-1):\n",
    "            print(\"*\", end=\"\")\n",
    "            n = n+1\n",
    "        n = 0\n",
    "         \n",
    "        # line break\n",
    "        print() \n",
    " \n",
    "    k = 1\n",
    "    n = 1\n",
    "    for i in range(1, rows):\n",
    "        # loop to print spaces\n",
    "        for j in range (1, k+1):\n",
    "            print(end=\" \")\n",
    "        k = k+1\n",
    "         \n",
    "        # loop to print star\n",
    "        while n <= (2*(rows-i)-1):\n",
    "            print(\"*\", end=\"\")\n",
    "            n = n+1\n",
    "        n = 1\n",
    "        print()\n",
    "        \n"
   ]
  },
  {
   "cell_type": "code",
   "execution_count": 8,
   "metadata": {},
   "outputs": [
    {
     "ename": "NameError",
     "evalue": "name 'rows' is not defined",
     "output_type": "error",
     "traceback": [
      "\u001b[1;31m---------------------------------------------------------------------------\u001b[0m",
      "\u001b[1;31mNameError\u001b[0m                                 Traceback (most recent call last)",
      "\u001b[1;32m<ipython-input-8-369dd33ed3e3>\u001b[0m in \u001b[0;36m<module>\u001b[1;34m()\u001b[0m\n\u001b[0;32m      1\u001b[0m \u001b[0mn\u001b[0m \u001b[1;33m=\u001b[0m \u001b[1;36m0\u001b[0m\u001b[1;33m\u001b[0m\u001b[0m\n\u001b[1;32m----> 2\u001b[1;33m \u001b[1;32mfor\u001b[0m \u001b[0mi\u001b[0m \u001b[1;32min\u001b[0m \u001b[0mrange\u001b[0m\u001b[1;33m(\u001b[0m\u001b[1;36m1\u001b[0m\u001b[1;33m,\u001b[0m \u001b[0mrows\u001b[0m\u001b[1;33m+\u001b[0m\u001b[1;36m1\u001b[0m\u001b[1;33m)\u001b[0m\u001b[1;33m:\u001b[0m\u001b[1;33m\u001b[0m\u001b[0m\n\u001b[0m\u001b[0;32m      3\u001b[0m     \u001b[1;31m# loop to print spaces\u001b[0m\u001b[1;33m\u001b[0m\u001b[1;33m\u001b[0m\u001b[0m\n\u001b[0;32m      4\u001b[0m     \u001b[1;32mfor\u001b[0m \u001b[0mj\u001b[0m \u001b[1;32min\u001b[0m \u001b[0mrange\u001b[0m \u001b[1;33m(\u001b[0m\u001b[1;36m1\u001b[0m\u001b[1;33m,\u001b[0m \u001b[1;33m(\u001b[0m\u001b[0mrows\u001b[0m\u001b[1;33m-\u001b[0m\u001b[0mi\u001b[0m\u001b[1;33m)\u001b[0m\u001b[1;33m+\u001b[0m\u001b[1;36m1\u001b[0m\u001b[1;33m)\u001b[0m\u001b[1;33m:\u001b[0m\u001b[1;33m\u001b[0m\u001b[0m\n\u001b[0;32m      5\u001b[0m         \u001b[0mprint\u001b[0m\u001b[1;33m(\u001b[0m\u001b[0mend\u001b[0m\u001b[1;33m=\u001b[0m\u001b[1;34m\" \"\u001b[0m\u001b[1;33m)\u001b[0m\u001b[1;33m\u001b[0m\u001b[0m\n",
      "\u001b[1;31mNameError\u001b[0m: name 'rows' is not defined"
     ]
    }
   ],
   "source": [
    "n = 0\n",
    "for i in range(1, rows+1):\n",
    "    # loop to print spaces\n",
    "    for j in range (1, (rows-i)+1):\n",
    "        print(end=\" \")\n",
    "         \n",
    "        # loop to print star\n",
    "    while n != (2*i-1):\n",
    "        print(\"*\", end=\"\")\n",
    "        n = n+1\n",
    "    n = 0\n",
    "         \n",
    "        # line break\n",
    "    print() "
   ]
  },
  {
   "cell_type": "code",
   "execution_count": 11,
   "metadata": {},
   "outputs": [
    {
     "name": "stdout",
     "output_type": "stream",
     "text": [
      "3\n",
      "   *\n",
      "  ***\n",
      " *****\n",
      "  ***\n",
      "   *\n"
     ]
    }
   ],
   "source": [
    "n = int(input())\n",
    "\n",
    "for i in range(n-1):\n",
    "    print((n-i) * ' ' + (2*i+1) * '*')\n",
    "for i in range(n-1, -1, -1):\n",
    "    print((n-i) * ' ' + (2*i+1) * '*')"
   ]
  },
  {
   "cell_type": "code",
   "execution_count": null,
   "metadata": {},
   "outputs": [],
   "source": [
    "k = 8\n",
    "for i in range(0, 5):\n",
    "\tfor j in range(0, k):\n",
    "\t\tprint(end=\" \")\n",
    "\tk = k - 2\n",
    "\tfor j in range(0, i+1):\n",
    "\t\tprint(\"* \", end=\"\")\n",
    "\tprint()"
   ]
  },
  {
   "cell_type": "code",
   "execution_count": null,
   "metadata": {
    "collapsed": true
   },
   "outputs": [],
   "source": [
    "rows = int(input())\n",
    "for i in range(rows):\n",
    "        print((rows-i) * \" \" + '*' * (i+1))"
   ]
  },
  {
   "cell_type": "code",
   "execution_count": null,
   "metadata": {
    "collapsed": true
   },
   "outputs": [],
   "source": []
  }
 ],
 "metadata": {
  "kernelspec": {
   "display_name": "Python 3",
   "language": "python",
   "name": "python3"
  },
  "language_info": {
   "codemirror_mode": {
    "name": "ipython",
    "version": 3
   },
   "file_extension": ".py",
   "mimetype": "text/x-python",
   "name": "python",
   "nbconvert_exporter": "python",
   "pygments_lexer": "ipython3",
   "version": "3.6.3"
  }
 },
 "nbformat": 4,
 "nbformat_minor": 2
}
